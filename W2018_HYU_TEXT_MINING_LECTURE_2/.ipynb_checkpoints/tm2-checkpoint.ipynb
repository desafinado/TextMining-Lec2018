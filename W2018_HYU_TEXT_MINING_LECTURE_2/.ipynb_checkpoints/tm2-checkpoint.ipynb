{
 "cells": [
  {
   "cell_type": "code",
   "execution_count": 1,
   "metadata": {
    "slideshow": {
     "slide_type": "skip"
    }
   },
   "outputs": [
    {
     "data": {
      "text/plain": [
       "'/Users/hanjudong/work/W2018_HYU_TEXT_MINING_LECTURE_2'"
      ]
     },
     "execution_count": 1,
     "metadata": {},
     "output_type": "execute_result"
    }
   ],
   "source": [
    "import os\n",
    "os.chdir('/Users/hanjudong/work/W2018_HYU_TEXT_MINING_LECTURE_2')\n",
    "#os.chdir('C:/Users/hanjudong/work/W2018_HYU_TEXT_MINING_LECTURE_2')\n",
    "os.getcwd()"
   ]
  },
  {
   "cell_type": "markdown",
   "metadata": {
    "slideshow": {
     "slide_type": "slide"
    }
   },
   "source": [
    "# Introduction to Text Mining\n",
    "---------------------------------------------\n",
    "\n",
    "\n",
    " ### 2018.10.29 Hanyang University"
   ]
  },
  {
   "cell_type": "markdown",
   "metadata": {
    "slideshow": {
     "slide_type": "slide"
    }
   },
   "source": [
    "#  6. Vector Semantics \n",
    "### : Dense Vector Representation\n",
    "\n",
    "------\n",
    "\n",
    "* **_The Curse of Dimensionality_**\n",
    "* **_High-Dimensional Problems: $p \\gg N$_**\n",
    "\n",
    "The Elements of Statistical Learning: Data Mining, Inference, and Prediction 2E -Chapter 18 참고\n",
    "\n",
    "Example) - 노벨경제학상, 물리학상 연설문 : $N$ = 18, $p$ = 15,594  <br/>\n",
    "\n",
    "-기업의 부도율 : 시군구지역별(230)x자산규모별(10)x매출액 규모별(10)x표준산업코드별(1,197) => 27,531,000 segments <br/> 그런데, 우리나라 기업의 수는? <br/>\n",
    "         \n",
    "         "
   ]
  },
  {
   "cell_type": "markdown",
   "metadata": {
    "slideshow": {
     "slide_type": "subslide"
    }
   },
   "source": [
    "###  king - man + woman = queen\n",
    "\n",
    "<img src=\"iw2v.jpeg\">"
   ]
  },
  {
   "cell_type": "markdown",
   "metadata": {
    "slideshow": {
     "slide_type": "slide"
    }
   },
   "source": [
    "#  7. 장난감 모델 \n",
    "------"
   ]
  },
  {
   "cell_type": "markdown",
   "metadata": {
    "slideshow": {
     "slide_type": "slide"
    }
   },
   "source": [
    "##  7-1. 기업에 대한 뉴스를 통해 구축한 언어 모델 \n",
    "------"
   ]
  },
  {
   "cell_type": "markdown",
   "metadata": {
    "slideshow": {
     "slide_type": "subslide"
    }
   },
   "source": [
    "### - 2008년 12월 ~ 2016년 9월 주요 경제지의 온라인 뉴스 제목과 기업을 연결 \n",
    "### - 뉴스 발표일로부터 1년 이내 기업에 부도가 발생하면 부실기업 뉴스(=1)로 그렇지 않으면 정상기업 뉴스(=0)로 구분 \n",
    "\n",
    "\n",
    "<br/>\n",
    "\n",
    "구분|뉴스건수|분류별 구성비|기업 수|전체 단어 수|중복 제거 단어수|\n",
    "----|--------|-------------|--------|------------|-----------------\n",
    "정상기업 뉴스|958,297|95.97%|13,873사|10,956,581|74,723|\n",
    "부실기업 뉴스|40,237|4.03%|1,069사|444,556|14,896|\n",
    "총계|998,534|100.00%|14,372사|11,398,137|75,939|\n"
   ]
  },
  {
   "cell_type": "markdown",
   "metadata": {
    "slideshow": {
     "slide_type": "subslide"
    }
   },
   "source": [
    "### - 년도별 정상/부실 기업 뉴스 구성\n",
    "\n",
    "년도|정상 뉴스 수|부실 뉴스 수 |합계 |부실 뉴스 구성비 |\n",
    "----|--------|-------------|--------|------------|\n",
    "2008| 13,357 | 456 | 13,813 |3.30% |\n",
    "2009| 156,033 | 8,775 | 164,808 |5.32% |\n",
    "2010| 155,932 | 7,850 | 163,782 |4.79% |\n",
    "2011| 115,610 | 4,740 | 120,350 |3.94% |\n",
    "2012| 140,945 | 5,565 | 146,510 |3.80% |\n",
    "2013| 99,096 | 4,582 | 103,678 |4.42% |\n",
    "2014| 95,163 | 3,092 | 98,255 |3.15% |\n",
    "2015| 104,580 | 2,984 | 107,564 |2.77% |\n",
    "2016| 77,581 | 2,193 | 79,774 |2.75% |\n",
    "합계| 958,297 | 40,237 | 998,534 |4.03% |"
   ]
  },
  {
   "cell_type": "markdown",
   "metadata": {
    "slideshow": {
     "slide_type": "subslide"
    }
   },
   "source": [
    "### - 년도별 정상/부실 기업 구성\n",
    "\n",
    "년도|정상 기업 수|부실 기업 수|합계|부실 기업 구성비|\n",
    "----|--------|-------------|--------|------------|\n",
    "2008| 2,008 | 69 | 2,077 |3.32%|\n",
    "2009| 5,043 | 314 | 5,357 |5.86%|\n",
    "2010| 4,952 | 319 | 5,271 |6.05%|\n",
    "2011| 4,352 | 233 | 4,585 |5.08%|\n",
    "2012| 4,985 | 252 | 5,237 |4.81%|\n",
    "2013| 4,644 | 195 | 4,839 |4.03%|\n",
    "2014| 5,044 | 204 | 5,248 |3.89%|\n",
    "2015| 4,999 | 182 | 5,181 |3.51%|\n",
    "2016| 4,602 | 101 | 4,703 |2.15%|\n"
   ]
  },
  {
   "cell_type": "markdown",
   "metadata": {
    "slideshow": {
     "slide_type": "subslide"
    }
   },
   "source": [
    "### - 년도별 부실 기업과 부실 기업 뉴스 비중\n",
    "\n",
    "<img src='idef_ratio.png'>"
   ]
  },
  {
   "cell_type": "markdown",
   "metadata": {
    "slideshow": {
     "slide_type": "slide"
    }
   },
   "source": [
    "### - Word2Vec 방법으로 뉴스로부터 한국어를 학습한 toy_dense_model 을 불러와 이리저리 살펴봅시다.\n",
    "\n",
    "주의 : 예시는 Cherry picking 결과입니다."
   ]
  },
  {
   "cell_type": "code",
   "execution_count": 169,
   "metadata": {
    "slideshow": {
     "slide_type": "subslide"
    }
   },
   "outputs": [],
   "source": [
    "import pickle\n",
    "import pprint\n",
    "from konlpy.tag import Twitter\n",
    "pos_tagger = Twitter()\n",
    "\n",
    "def tokenize(doc):\n",
    "    return['/'.join(t)for t in pos_tagger.pos(doc, norm=True, stem=True)]\n",
    "\n",
    "from gensim.models import Doc2Vec\n",
    "from gensim.models.doc2vec import TaggedDocument\n",
    "from collections import namedtuple"
   ]
  },
  {
   "cell_type": "code",
   "execution_count": 170,
   "metadata": {
    "slideshow": {
     "slide_type": "subslide"
    }
   },
   "outputs": [
    {
     "name": "stderr",
     "output_type": "stream",
     "text": [
      "//anaconda/lib/python3.5/site-packages/gensim/models/doc2vec.py:531: UserWarning: The parameter `iter` is deprecated, will be removed in 4.0.0, use `epochs` instead.\n",
      "  warnings.warn(\"The parameter `iter` is deprecated, will be removed in 4.0.0, use `epochs` instead.\")\n",
      "//anaconda/lib/python3.5/site-packages/gensim/models/doc2vec.py:535: UserWarning: The parameter `size` is deprecated, will be removed in 4.0.0, use `vector_size` instead.\n",
      "  warnings.warn(\"The parameter `size` is deprecated, will be removed in 4.0.0, use `vector_size` instead.\")\n"
     ]
    }
   ],
   "source": [
    "toy_dense_model = Doc2Vec.load('Doc2Vec(dbow+w,d400,n5,hs,w5,mc5,s0.001,t8).model')"
   ]
  },
  {
   "cell_type": "code",
   "execution_count": 176,
   "metadata": {},
   "outputs": [],
   "source": [
    "toy_dense_model?"
   ]
  },
  {
   "cell_type": "code",
   "execution_count": 171,
   "metadata": {
    "slideshow": {
     "slide_type": "subslide"
    }
   },
   "outputs": [
    {
     "name": "stdout",
     "output_type": "stream",
     "text": [
      "[('액/Noun', 0.5762389898300171),\n",
      " ('이익/Noun', 0.4915822148323059),\n",
      " ('익/Noun', 0.47872430086135864),\n",
      " ('영업/Noun', 0.4716307520866394),\n",
      " ('순이익/Noun', 0.4596134424209595),\n",
      " ('순익/Noun', 0.4572048783302307),\n",
      " ('사상/Noun', 0.43765807151794434),\n",
      " ('연매출/Noun', 0.4212663173675537),\n",
      " ('달성/Noun', 0.4144240915775299),\n",
      " ('당다/Verb', 0.37733155488967896)]\n"
     ]
    }
   ],
   "source": [
    "pprint.pprint(toy_dense_model.wv.most_similar('매출/Noun'))"
   ]
  },
  {
   "cell_type": "code",
   "execution_count": 172,
   "metadata": {
    "slideshow": {
     "slide_type": "subslide"
    }
   },
   "outputs": [
    {
     "name": "stdout",
     "output_type": "stream",
     "text": [
      "[('여신/Noun', 0.44594645500183105),\n",
      " ('PF/Alpha', 0.39537885785102844),\n",
      " ('NPL/Alpha', 0.3409172296524048),\n",
      " ('충당금/Noun', 0.3234788775444031),\n",
      " ('부동산/Noun', 0.3188086748123169),\n",
      " ('채권/Noun', 0.3164753317832947),\n",
      " ('공적자금/Noun', 0.3102889955043793),\n",
      " ('징후/Noun', 0.30630940198898315),\n",
      " ('정리/Noun', 0.30606162548065186),\n",
      " ('예보/Noun', 0.3011745512485504)]\n"
     ]
    }
   ],
   "source": [
    "pprint.pprint(toy_dense_model.wv.most_similar('부실/Noun'))"
   ]
  },
  {
   "cell_type": "code",
   "execution_count": 173,
   "metadata": {
    "slideshow": {
     "slide_type": "subslide"
    }
   },
   "outputs": [
    {
     "name": "stdout",
     "output_type": "stream",
     "text": [
      "('하락/Noun', 0.3773341774940491)\n"
     ]
    }
   ],
   "source": [
    "pprint.pprint(toy_dense_model.wv.most_similar(positive=['금리/Noun','상승/Noun'],negative=['주식/Noun'])[0])"
   ]
  },
  {
   "cell_type": "code",
   "execution_count": 174,
   "metadata": {
    "slideshow": {
     "slide_type": "subslide"
    }
   },
   "outputs": [
    {
     "name": "stdout",
     "output_type": "stream",
     "text": [
      "('하락/Noun', 0.39649254083633423)\n"
     ]
    }
   ],
   "source": [
    "pprint.pprint(toy_dense_model.wv.most_similar(positive=['금리/Noun','상승/Noun'],negative=['채권/Noun'])[0])"
   ]
  },
  {
   "cell_type": "code",
   "execution_count": 175,
   "metadata": {
    "slideshow": {
     "slide_type": "subslide"
    }
   },
   "outputs": [
    {
     "name": "stdout",
     "output_type": "stream",
     "text": [
      "('상승/Noun', 0.41907522082328796)\n"
     ]
    }
   ],
   "source": [
    "pprint.pprint(toy_dense_model.wv.most_similar(positive=['금리/Noun','하락/Noun'],negative=['채권/Noun'])[0])"
   ]
  },
  {
   "cell_type": "code",
   "execution_count": 166,
   "metadata": {
    "slideshow": {
     "slide_type": "subslide"
    }
   },
   "outputs": [
    {
     "name": "stdout",
     "output_type": "stream",
     "text": [
      "[('p/Alpha', 0.372775673866272),\n",
      " ('등락/Noun', 0.3579190969467163),\n",
      " ('초반/Noun', 0.33119136095046997),\n",
      " ('중반/Noun', 0.32870686054229736),\n",
      " ('힘겨루기/Noun', 0.3249766230583191),\n",
      " ('인하/Noun', 0.31609907746315),\n",
      " ('혼/Noun', 0.3082966208457947),\n",
      " ('금리인하/Noun', 0.303908109664917),\n",
      " ('기준금리/Noun', 0.30262070894241333),\n",
      " ('1570/Number', 0.2987695038318634)]\n"
     ]
    }
   ],
   "source": [
    "pprint.pprint(toy_dense_model.wv.most_similar(positive=['금리/Noun','보합/Noun'],negative=['주식/Noun']))"
   ]
  },
  {
   "cell_type": "code",
   "execution_count": 167,
   "metadata": {
    "slideshow": {
     "slide_type": "subslide"
    }
   },
   "outputs": [
    {
     "name": "stdout",
     "output_type": "stream",
     "text": [
      "('약품/Noun', 0.22793251276016235)\n"
     ]
    }
   ],
   "source": [
    "pprint.pprint(toy_dense_model.wv.most_similar(negative=['농심/Noun','라면/Noun'],positive=['한미/Noun'])[0])"
   ]
  },
  {
   "cell_type": "code",
   "execution_count": 168,
   "metadata": {
    "slideshow": {
     "slide_type": "subslide"
    }
   },
   "outputs": [
    {
     "name": "stdout",
     "output_type": "stream",
     "text": [
      "('마트/Noun', 0.21412473917007446)\n"
     ]
    }
   ],
   "source": [
    "pprint.pprint(toy_dense_model.wv.most_similar(negative=['한미/Noun','약품/Noun'],positive=['롯데/Noun'])[0])"
   ]
  },
  {
   "cell_type": "markdown",
   "metadata": {
    "slideshow": {
     "slide_type": "slide"
    }
   },
   "source": [
    "### - 2차원 공간에 시각화 해봅니다."
   ]
  },
  {
   "cell_type": "code",
   "execution_count": 227,
   "metadata": {
    "slideshow": {
     "slide_type": "subslide"
    }
   },
   "outputs": [
    {
     "name": "stdout",
     "output_type": "stream",
     "text": [
      "7 400\n"
     ]
    }
   ],
   "source": [
    "# 2차원 공간에 시각화하고 싶은 문자열을 써봅니다. word tags는 무시해도 되나 값은 넣어 줍니다.\n",
    "vizdt = [\n",
    "         ['대형 공사계약 상한가', '2'], ['대형 매출계약 상한가 외국인 투자자 유입', '2'],\n",
    "         ['업황 악화로 인한 영업부진 지속 안정성 악화', '2'],['대표이사 배임 횡령 주가 급락', '2'],\n",
    "         ['법정관리와 워크아웃 기로에서 우왕좌왕', '2'],\n",
    "         ['신약 개발 성공 FDA 승인 실패', '2'] ,['신약 개발 FDA 승인 성공 기대감 증대', '2']\n",
    "        ]\n",
    "# 시각화시키고 싶은 문자열을 한국어 품사태깅을 하여 토큰화 합니다.\n",
    "doc_all   = [(tokenize(row[0]),row[1]) for row in vizdt ]\n",
    "# Gensim 라이브러리가 원하는 형태로 자료를 변형시켜 줍시다.\n",
    "TaggedDocumnet = namedtuple(\"TaggedDocument\",\"words tags\")\n",
    "qlist = [TaggedDocument(a,b) for a,b in doc_all]\n",
    "\n",
    "# toy_dense_model에 시각화 시키고 싶은 문자열을 input으로 넣어서 400 dim의 vector를 얻습니다. \n",
    "viz_x = []\n",
    "for doc in qlist:\n",
    "    toy_dense_model.random.seed(1234)\n",
    "    viz_x.append(toy_dense_model.infer_vector(doc.words))\n",
    "# 입력한 문자열의 갯수와 toy_dense_model을 통해 생성한 vector의 크기를 확인해 봅니다.\n",
    "print(len(viz_x), len(viz_x[0]))"
   ]
  },
  {
   "cell_type": "code",
   "execution_count": 228,
   "metadata": {
    "slideshow": {
     "slide_type": "subslide"
    }
   },
   "outputs": [
    {
     "name": "stdout",
     "output_type": "stream",
     "text": [
      "[[ 0.37837952  0.95637226]\n",
      " [ 0.4320024   1.        ]\n",
      " [ 1.          0.        ]\n",
      " [ 0.55214983  0.88746619]\n",
      " [ 0.43684095  0.72060841]\n",
      " [ 0.0473215   0.28082862]\n",
      " [ 0.          0.1185436 ]]\n"
     ]
    }
   ],
   "source": [
    "# 400 dim을 2 dim에 시각화하기 위해 PCA를 통해 축소 시켜봅니다. \n",
    "import numpy as np\n",
    "from sklearn.decomposition import PCA\n",
    "from sklearn.preprocessing import MinMaxScaler\n",
    "\n",
    "input_x = np.array(viz_x)\n",
    "\n",
    "# n_components 2로 dim을 지정하고 PCA를 적용합니다.\n",
    "pca = PCA(n_components=2)\n",
    "pca.fit(input_x)\n",
    "trf_x = pca.transform(input_x)\n",
    "\n",
    "# 시각화를 위해 최대값, 최소값을 0~1로 스케일을 조정합니다.\n",
    "min_max_scaler = MinMaxScaler()\n",
    "trf_adj_x = min_max_scaler.fit_transform(trf_x)\n",
    "print(trf_adj_x)"
   ]
  },
  {
   "cell_type": "code",
   "execution_count": 229,
   "metadata": {
    "slideshow": {
     "slide_type": "subslide"
    }
   },
   "outputs": [],
   "source": [
    "# 이번에는 pandas를 이용해서 시각화를 해봅시다.\n",
    "import pandas as pd\n",
    "# PCA를 통해 2차원으로 변형된 데이터를 pandas DataFrame으로 바꿉니다.\n",
    "value_df = pd.DataFrame(trf_adj_x, columns=['x', 'y'])\n",
    "# 시각화할 문자열을 DataFrame에 추가합니다.\n",
    "label = [(row[0]) for row in vizdt ]\n",
    "label_df = pd.DataFrame(label, columns=['label'])\n",
    "viz_df = label_df.join(value_df)"
   ]
  },
  {
   "cell_type": "code",
   "execution_count": 230,
   "metadata": {
    "slideshow": {
     "slide_type": "subslide"
    }
   },
   "outputs": [
    {
     "data": {
      "text/html": [
       "<div>\n",
       "<table border=\"1\" class=\"dataframe\">\n",
       "  <thead>\n",
       "    <tr style=\"text-align: right;\">\n",
       "      <th></th>\n",
       "      <th>label</th>\n",
       "      <th>x</th>\n",
       "      <th>y</th>\n",
       "    </tr>\n",
       "  </thead>\n",
       "  <tbody>\n",
       "    <tr>\n",
       "      <th>0</th>\n",
       "      <td>대형 공사계약 상한가</td>\n",
       "      <td>0.378380</td>\n",
       "      <td>0.956372</td>\n",
       "    </tr>\n",
       "    <tr>\n",
       "      <th>1</th>\n",
       "      <td>대형 매출계약 상한가 외국인 투자자 유입</td>\n",
       "      <td>0.432002</td>\n",
       "      <td>1.000000</td>\n",
       "    </tr>\n",
       "    <tr>\n",
       "      <th>2</th>\n",
       "      <td>업황 악화로 인한 영업부진 지속 안정성 악화</td>\n",
       "      <td>1.000000</td>\n",
       "      <td>0.000000</td>\n",
       "    </tr>\n",
       "    <tr>\n",
       "      <th>3</th>\n",
       "      <td>대표이사 배임 횡령 주가 급락</td>\n",
       "      <td>0.552150</td>\n",
       "      <td>0.887466</td>\n",
       "    </tr>\n",
       "    <tr>\n",
       "      <th>4</th>\n",
       "      <td>법정관리와 워크아웃 기로에서 우왕좌왕</td>\n",
       "      <td>0.436841</td>\n",
       "      <td>0.720608</td>\n",
       "    </tr>\n",
       "    <tr>\n",
       "      <th>5</th>\n",
       "      <td>신약 개발 성공 FDA 승인 실패</td>\n",
       "      <td>0.047321</td>\n",
       "      <td>0.280829</td>\n",
       "    </tr>\n",
       "    <tr>\n",
       "      <th>6</th>\n",
       "      <td>신약 개발 FDA 승인 성공 기대감 증대</td>\n",
       "      <td>0.000000</td>\n",
       "      <td>0.118544</td>\n",
       "    </tr>\n",
       "  </tbody>\n",
       "</table>\n",
       "</div>"
      ],
      "text/plain": [
       "                      label         x         y\n",
       "0               대형 공사계약 상한가  0.378380  0.956372\n",
       "1    대형 매출계약 상한가 외국인 투자자 유입  0.432002  1.000000\n",
       "2  업황 악화로 인한 영업부진 지속 안정성 악화  1.000000  0.000000\n",
       "3          대표이사 배임 횡령 주가 급락  0.552150  0.887466\n",
       "4      법정관리와 워크아웃 기로에서 우왕좌왕  0.436841  0.720608\n",
       "5        신약 개발 성공 FDA 승인 실패  0.047321  0.280829\n",
       "6    신약 개발 FDA 승인 성공 기대감 증대  0.000000  0.118544"
      ]
     },
     "execution_count": 230,
     "metadata": {},
     "output_type": "execute_result"
    }
   ],
   "source": [
    "viz_df"
   ]
  },
  {
   "cell_type": "code",
   "execution_count": 246,
   "metadata": {
    "slideshow": {
     "slide_type": "subslide"
    }
   },
   "outputs": [
    {
     "data": {
      "image/png": "[encoded data removed]",
      "text/plain": [
       "<matplotlib.figure.Figure object at 0x1379e6630>"
      ]
     },
     "metadata": {},
     "output_type": "display_data"
    }
   ],
   "source": [
    "%matplotlib inline  \n",
    "import matplotlib ; import matplotlib.pyplot as plt\n",
    "from matplotlib import font_manager, rc\n",
    "font_fname = '/Library/Fonts/AppleGothic.ttf' ; font_name = font_manager.FontProperties(fname=font_fname).get_name()\n",
    "# C:/Windows/Fonts/Arial.ttf\n",
    "rc('font', family=font_name, size=10) ; rc('figure',figsize=(10,6))\n",
    "plt.style.use('ggplot')\n",
    "ax = viz_df.plot('x', 'y', kind='scatter') ; viz_df[['x','y','label']].apply(lambda x: ax.text(*x),axis=1);\n",
    "plt.xlabel(\"\") ; plt.ylabel(\"\")\n",
    "plt.xticks(np.arange(0,2,0.2)) ; plt.yticks(np.arange(0,1.2,0.2))\n",
    "plt.show()"
   ]
  },
  {
   "cell_type": "markdown",
   "metadata": {
    "slideshow": {
     "slide_type": "slide"
    }
   },
   "source": [
    "### - toy_dense_model에게 부도 위험을 판별하게 할 수 있을까요?"
   ]
  },
  {
   "cell_type": "code",
   "execution_count": 289,
   "metadata": {
    "slideshow": {
     "slide_type": "subslide"
    }
   },
   "outputs": [],
   "source": [
    "XY_name = {}\n",
    "XY_name['train_x_Doc2Vec(dbow+w,d400,n5,hs,w5,mc5,s0.001,t8)'] = pickle.load(open('train_x_Doc2Vec(dbow+w,d400,n5,hs,w5,mc5,s0.001,t8)',\"rb\"))\n",
    "XY_name['train_y_Doc2Vec(dbow+w,d400,n5,hs,w5,mc5,s0.001,t8)'] = pickle.load(open('train_y_Doc2Vec(dbow+w,d400,n5,hs,w5,mc5,s0.001,t8)',\"rb\"))\n",
    "train_x = XY_name['train_x_Doc2Vec(dbow+w,d400,n5,hs,w5,mc5,s0.001,t8)']\n",
    "train_y = XY_name['train_y_Doc2Vec(dbow+w,d400,n5,hs,w5,mc5,s0.001,t8)']"
   ]
  },
  {
   "cell_type": "code",
   "execution_count": 290,
   "metadata": {
    "slideshow": {
     "slide_type": "subslide"
    }
   },
   "outputs": [
    {
     "name": "stdout",
     "output_type": "stream",
     "text": [
      "--- 51.93 seconds ---\n"
     ]
    }
   ],
   "source": [
    "import time\n",
    "from sklearn import linear_model\n",
    "start_time = time.time()\n",
    "toy_dense_risk_model = linear_model.LogisticRegression(random_state=1234)\n",
    "toy_dense_risk_model.fit(train_x,train_y)\n",
    "print(\"--- %0.2f seconds ---\" % (time.time() - start_time))"
   ]
  },
  {
   "cell_type": "code",
   "execution_count": 291,
   "metadata": {
    "slideshow": {
     "slide_type": "subslide"
    }
   },
   "outputs": [
    {
     "data": {
      "image/png": "[encoded data removed]",
      "text/plain": [
       "<matplotlib.figure.Figure object at 0x137e96080>"
      ]
     },
     "metadata": {},
     "output_type": "display_data"
    }
   ],
   "source": [
    "from sklearn.metrics import roc_curve, auc\n",
    "x_train = train_x; y_train = np.array([int(y) for y in train_y])\n",
    "pred_probas_train = toy_dense_risk_model.predict_proba(x_train)[:,1]\n",
    "\n",
    "fpr_train,tpr_train , _ = roc_curve(y_train, pred_probas_train)\n",
    "roc_auc_train = auc(fpr_train,tpr_train)\n",
    "\n",
    "plt.plot(fpr_train,tpr_train,label='TRAIN : AUROC = %.4f' %roc_auc_train)\n",
    "plt.plot([0, 1], [0, 1], 'k--'); plt.xlim([-0.01, 1.01]); plt.ylim([-0.01, 1.01]); plt.legend(loc='lower right')\n",
    "plt.show()"
   ]
  },
  {
   "cell_type": "code",
   "execution_count": 292,
   "metadata": {
    "slideshow": {
     "slide_type": "subslide"
    }
   },
   "outputs": [],
   "source": [
    "# 시간이 오래걸리는 결과물은 pickle로 쓰고 다음에 작업할때는 pickle로 불러 옵시다.\n",
    "import pickle\n",
    "#with open('toy_dense_risk_model', 'wb') as f:\n",
    "#    pickle.dump(toy_dense_risk_model, f)\n",
    "#del XY_name, train_x, train_y, toy_dense_risk_model\n",
    "\n",
    "with open ('toy_dense_risk_model', 'rb') as f:\n",
    "    toy_dense_risk_model = pickle.load(f)"
   ]
  },
  {
   "cell_type": "code",
   "execution_count": 293,
   "metadata": {
    "slideshow": {
     "slide_type": "subslide"
    }
   },
   "outputs": [
    {
     "name": "stdout",
     "output_type": "stream",
     "text": [
      "[ 0.04501267  0.04485619  0.04245259]\n"
     ]
    }
   ],
   "source": [
    "data = [['대형 공사계약', '2'], ['대형 판매계약', '2'], ['대형 매출계약', '2'] ]\n",
    "doc_all   = [(tokenize(row[0]),row[1]) for row in data ]\n",
    "TaggedDocumnet = namedtuple(\"TaggedDocument\",\"words tags\")\n",
    "qlist = [TaggedDocument(a,b) for a,b in doc_all]\n",
    "\n",
    "test_x = []\n",
    "for doc in qlist:\n",
    "    toy_dense_model.random.seed(1234)\n",
    "    test_x.append(toy_dense_model.infer_vector(doc.words))\n",
    "print(toy_dense_risk_model.predict_proba(test_x)[:,1])"
   ]
  },
  {
   "cell_type": "code",
   "execution_count": 294,
   "metadata": {
    "slideshow": {
     "slide_type": "subslide"
    }
   },
   "outputs": [
    {
     "name": "stdout",
     "output_type": "stream",
     "text": [
      "[ 0.04876137  0.06677477  0.08226433]\n"
     ]
    }
   ],
   "source": [
    "data = [ ['영업부진 지속', '2'], ['대표이사 배임 횡령 주가 급락', '2'], ['법정관리와 워크아웃 기로에서 우왕좌왕', '2'] ]\n",
    "doc_all   = [(tokenize(row[0]),row[1]) for row in data ]\n",
    "TaggedDocumnet = namedtuple(\"TaggedDocument\",\"words tags\")\n",
    "qlist = [TaggedDocument(a,b) for a,b in doc_all]\n",
    "\n",
    "test_x = []\n",
    "for doc in qlist:\n",
    "    toy_dense_model.random.seed(1234)\n",
    "    test_x.append(toy_dense_model.infer_vector(doc.words))\n",
    "print(toy_dense_risk_model.predict_proba(test_x)[:,1])"
   ]
  },
  {
   "cell_type": "markdown",
   "metadata": {
    "slideshow": {
     "slide_type": "slide"
    }
   },
   "source": [
    " #  8. Word2Vec & Doc2Vec \n",
    "------"
   ]
  },
  {
   "cell_type": "markdown",
   "metadata": {
    "slideshow": {
     "slide_type": "slide"
    }
   },
   "source": [
    "## 8.1 Word2Vec & Doc2Vec 설계\n",
    "\n",
    "<img src='istr.jpeg'>\n",
    "\n",
    "  \n",
    "   * Doc2Vec : &emsp;&emsp;&emsp;&emsp;&emsp;&emsp;&emsp;&emsp;-PV-DM(distributed memeory)     &emsp;&emsp;&emsp;&emsp;&emsp;&emsp;&emsp;&emsp;&emsp;&emsp;&emsp;&emsp;&emsp;&emsp;&emsp;&emsp;       - PV-DBOW(distributed bag of words) <br/>\n",
    "   * Word2Vec : &emsp;&emsp;&emsp;&emsp;&emsp;&emsp;&emsp;&nbsp;-CBOW(continuous bag of words)     &emsp;&emsp;&emsp;&emsp;&emsp;&emsp;&emsp;&emsp;&emsp;&emsp;&emsp;&emsp;&emsp;&emsp;    - Skip-gram\n",
    "<br/>\n",
    "<br/>\n",
    "   \n",
    "* $c \\in \\mathbb{R}^{1 \\cdot V} $: $word_i$ 의 주변 맥락 단어 벡터(one-hot-encoding), $k$개 까지 고려, $V$는 단어사전의 크기 <br/>\n",
    "* $d \\in \\mathbb{R}^{1 \\cdot N} $: 문서의 id 벡터(one-hot-encoding), N은 문서의 개수 <br/>\n",
    "* $h \\in \\mathbb{R}^{1 \\cdot P} $: hidden layer 벡터($= c\\cdot\\hat{W}$, = $d\\cdot\\hat{M}$), P는 hyper-parameter로 문서를 표현하는 벡터 크기 <br/>\n",
    "* $y \\in \\mathbb{R}^{1 \\cdot V} $: output layer로 단어 등장에 대한 예측 확률값 벡터 $ \\approx Logit(\\hat{U}\\cdot h)$<br/>\n",
    "* $\\hat{W} \\in \\mathbb{R}^{V \\cdot P} $: 단어 input layer -> hidden layer 가중치 행렬 <br/>\n",
    "* $\\hat{M} \\in \\mathbb{R}^{N \\cdot P} $: 문서 input layer -> hidden layer 가중치 행렬 <br/>\n",
    "* $\\hat{U} \\in \\mathbb{R}^{P \\cdot V} $: hidden layer -> output layer 가중치 행렬, 즉 단어별로는 $P \\cdot 1$의 벡터가 할당 <br/>"
   ]
  },
  {
   "cell_type": "markdown",
   "metadata": {
    "slideshow": {
     "slide_type": "slide"
    }
   },
   "source": [
    "## 8.2 개념 및 계산\n",
    "\n",
    "$$\\operatorname*{arg\\, max}_{W,M,U} \\Pi \\,  P(w_t | c, d)$$\n",
    "\n",
    "where\n",
    "$$P(w_t | c, d) = \\frac{1}{1+e^{-(c \\cdot (W or M) \\cdot U)}}$$\n",
    "\n",
    "$c$ 은 one-hot-encoding 임으로\n",
    "\n",
    "$$ \\,\\,\\,\\,\\,\\,\\,\\,\\,\\,\\,\\,\\,\\,\\,\\,\\,\\,\\,\\,= \\frac{1}{1+e^{-((W or M) \\cdot U)}}$$\n",
    "\n",
    "#### - 문맥 단어 c 혹은 문서 d 가 주어졌을 때, 타겟 단어 $w_t$ 가 나타날 확률을 극대화하는 $\\hat{W},\\hat{M},\\hat{U}$를 찾는데, 그것은 ($\\hat{W}, \\hat{M}$) 과 $\\hat{U}$간 내적(inner product)을 최대로 하는 벡터이다.\n",
    "\n",
    "#### - $\\hat{W},\\hat{M},\\hat{U}$ 이 단어, 혹은 문서를 표현하는 벡터가 된다. $\\hat{U}$만을 활용하기도 하고,  $(\\hat{W} or \\hat{M})+ \\hat{U}$로 이용하거나 두 벡터를 쌓아서(concatenate) 활용하기도 한다.\n",
    "\n",
    "#### - 함께 잘 등장하지 않을 확률을 최소화하는 항을 추가하는데, 이를 negative sampling이라고 한다. 이때 극대화 해야하는 함수는 다음과 같다. \n",
    "\n",
    "$$L = log\\frac{1}{1+e^{-(c \\cdot (W or M) \\cdot U)}} + \\sum_{i=1}^{k}log\\frac{1}{1+e^{(n_i \\cdot (W or M) \\cdot U)}}$$\n",
    "\n",
    "where $n_i$ : negative words, $w_t$와 함께 잘 등장하지 않는 단어로 Randomly sampling한다. \n",
    "\n",
    "#### - 일반적인 인공신경망(neural network)과 마찬가지로 초기값으로 임의의 $\\hat{W},\\hat{M},\\hat{U}$를 부여한 후 확률적 경사하강법(stochastic gradient descent)를 이용하여 목적함수를 극대화하는 파라미터를 찾는다. 즉, 예측값과 실제값의 차이에 일정한 learning rate만큼 조정하여 back-propagation을 통해 파라미터를 조정한다. \n",
    "\n",
    "#### - word vector는 모든 문서에 대해 공유된다. 즉 같은 단어는 각각 다른 문서에서 같은 벡터값을 갖는다. 반대로 문서 벡터는 다른 문서간에는 공유되지 않는다.\n",
    "\n",
    "#### - 파라미터를 모델에 추가적인 문서, 단어가 등장했을 때, 기존에 추정된 파라미터는 고정한 채로, 새로운 문서나 단어를 나타내는 one-hot-encoding을 추가하고 다시 확률적 경사하강법을 이용하여 새로운 문서, 단어를 표현하는 벡터를 얻는다.\n",
    "\n",
    "#### - 추정 결과를 평가하는 방법은 기존에 전문가들이 별도로 구축해놓은 유사도 데이터 셋과 비교하는 방법이 있다. 이를테면 WordSim-353(Finkelstein et al., 2002), SimLex-999(Hill et al., 2015), TOEFL dataset 등이 있다. \n"
   ]
  },
  {
   "cell_type": "code",
   "execution_count": 300,
   "metadata": {
    "slideshow": {
     "slide_type": "subslide"
    }
   },
   "outputs": [
    {
     "data": {
      "text/html": [
       "<iframe src=https://ronxin.github.io/wevi/ width=1000 height=1100></iframe>"
      ],
      "text/plain": [
       "<IPython.core.display.HTML object>"
      ]
     },
     "execution_count": 300,
     "metadata": {},
     "output_type": "execute_result"
    }
   ],
   "source": [
    "from IPython.display import HTML\n",
    "HTML('<iframe src=https://ronxin.github.io/wevi/ width=1000 height=1100></iframe>')\n"
   ]
  },
  {
   "cell_type": "markdown",
   "metadata": {
    "slideshow": {
     "slide_type": "slide"
    }
   },
   "source": [
    "## 8.3 Embedding방식으로 편향된 시각을 학습하는 경우 : 윤리적 이슈\n",
    "\n",
    "  #### - 성/인종 차별적 Embedding : man - computer programmer + woman = homemaker\n",
    "  #### - gender와 관련한 고정관념에 해당하는 부분을 제거하는 방법, 혹은 historical 변화 과정을 추적하거나, 고정관념이 없는 문서의 가중치를 이용하는 방법 등이 연구되고 있음.\n",
    "  #### - 그 외에도 데이터를 통한 작업 후 이 것이 어떻게 활용되고 어떠한 영향을 미칠 것인지는 염두에 두어야함. "
   ]
  },
  {
   "cell_type": "markdown",
   "metadata": {
    "slideshow": {
     "slide_type": "slide"
    }
   },
   "source": [
    "#  9. Gensim을 이용해 볼 만한 주제들 \n",
    "------"
   ]
  },
  {
   "cell_type": "code",
   "execution_count": 303,
   "metadata": {
    "slideshow": {
     "slide_type": "subslide"
    }
   },
   "outputs": [
    {
     "data": {
      "text/html": [
       "<iframe src=https://radimrehurek.com/gensim/apiref.html width=1000 height=1100> </iframe>"
      ],
      "text/plain": [
       "<IPython.core.display.HTML object>"
      ]
     },
     "execution_count": 303,
     "metadata": {},
     "output_type": "execute_result"
    }
   ],
   "source": [
    "from IPython.display import HTML\n",
    "HTML('<iframe src=https://radimrehurek.com/gensim/apiref.html width=1000 height=1100> </iframe>')"
   ]
  },
  {
   "cell_type": "markdown",
   "metadata": {
    "slideshow": {
     "slide_type": "subslide"
    }
   },
   "source": [
    "### Text Rank를 이용한 extraction 방식의 문서 요약"
   ]
  },
  {
   "cell_type": "code",
   "execution_count": 306,
   "metadata": {
    "slideshow": {
     "slide_type": "subslide"
    }
   },
   "outputs": [],
   "source": [
    "text = '''Rice Pudding - Poem by Alan Alexander Milne\n",
    " What is the matter with Mary Jane?\n",
    " She's crying with all her might and main,\n",
    " And she won't eat her dinner - rice pudding again -\n",
    " What is the matter with Mary Jane?\n",
    " What is the matter with Mary Jane?\n",
    " I've promised her dolls and a daisy-chain,\n",
    " And a book about animals - all in vain -\n",
    " What is the matter with Mary Jane?\n",
    " What is the matter with Mary Jane?\n",
    " She's perfectly well, and she hasn't a pain;\n",
    " But, look at her, now she's beginning again! -\n",
    " What is the matter with Mary Jane?\n",
    " What is the matter with Mary Jane?\n",
    " I've promised her sweets and a ride in the train,\n",
    " And I've begged her to stop for a bit and explain -\n",
    " What is the matter with Mary Jane?\n",
    " What is the matter with Mary Jane?\n",
    " She's perfectly well and she hasn't a pain,\n",
    " And it's lovely rice pudding for dinner again!\n",
    " What is the matter with Mary Jane?'''"
   ]
  },
  {
   "cell_type": "code",
   "execution_count": 308,
   "metadata": {
    "slideshow": {
     "slide_type": "subslide"
    }
   },
   "outputs": [],
   "source": [
    "news = '''종합부동산세 인상안 발표 후 서울 집값 상승세가 수개월 만에 재점화하고 있다. 내리막세였던 서울 강남 집값은 반등세로 전환하고 비강남권 곳곳에선 연일 신고가 경신 아파트가 나타나고 있다. 반면 지방 부동산은 하락세가 더욱 가팔라지고 있어 정부의 규제 `올인`이 집값 양극화에 기름만 붓고 있다는 비판이 거세지고 있다.\n",
    "19일 한국감정원에 따르면 7월 셋째주 서울 아파트 매매가격이 3주 연속 상승하며 올해 누적으로 4.05% 상승했다.\n",
    "지난 4월 양도세 중과 시행 후 하락세로 돌아섰던 강남 4구 아파트 매매는 15주 만에 처음으로 반등했다. 세 번째 임기를 시작한 박원순 서울시장이 `통째 재개발`을 약속한 여의도가 있는 영등포구와 용산구가 가장 크게 올랐다. 용산구는 올 들어 서울 25개 자치구 중 가장 높은 7.07% 상승률을 기록했다. 영등포구도 4.65% 상승했다. \n",
    "조용했던 은평구도 최근 GTX(수도권 광역급행철도) 개통과 재개발 기대감이 시너지를 내며 7월 셋째주 0.22% 올라 25개 자치구 중 두 번째로 높은 집값 상승률을 기록했다. 강남에선 저렴한 급매들이 속속 소화되며 강남구 도곡동 한신MBC 아파트 전용 84㎡는 직전 최고가보다 7000만원 오른 12억8000만원에 이달 거래됐다. 은평구 녹번동 북한산푸르지오 전용 97㎡도 작년 11월 마지막 거래였던 7억4500만원보다 1억원 가까이 오른 8억4000만원에 팔렸다. \n",
    "반면 지방 부동산시장은 `마이너스 늪`으로 더 깊이 빠져들고 있다. 올 들어 7월 셋째주까지 지방 아파트 가격은 2.1% 하락했다. 작년 같은 기간 0.18% 하락에 비해 12배나 하락 폭이 커졌다.\n",
    "지방 부동산 맹주였던 부산도 올해 2.12% 하락한 것으로 나타났다. 보유세 인상안 발표 후 지방 집값이 더 하락할 것이란 전망이 많다. 양도세 중과와 함께 보유세 강화까지 예고되면서 다주택자들이 세금 부담을 줄이기 위해 지방 주택부터 정리에 나설 것으로 예상되기 때문이다. 안명숙 우리은행 부동산팀장은 \"똘똘한 한 채에 대한 니즈가 더욱 확산되면서 강남권 등 입지 좋은 곳에 있는 부동산은 소유하고 지방 부동산을 매각하는 움직임이 뚜렷해질 것\"이라고 전망했다. \n",
    "'''"
   ]
  },
  {
   "cell_type": "code",
   "execution_count": 311,
   "metadata": {
    "slideshow": {
     "slide_type": "subslide"
    }
   },
   "outputs": [
    {
     "name": "stdout",
     "output_type": "stream",
     "text": [
      "And she won't eat her dinner - rice pudding again -\n",
      "19일 한국감정원에 따르면 7월 셋째주 서울 아파트 매매가격이 3주 연속 상승하며 올해 누적으로 4.05% 상승했다.\n",
      "지난 4월 양도세 중과 시행 후 하락세로 돌아섰던 강남 4구 아파트 매매는 15주 만에 처음으로 반등했다.\n",
      "조용했던 은평구도 최근 GTX(수도권 광역급행철도) 개통과 재개발 기대감이 시너지를 내며 7월 셋째주 0.22% 올라 25개 자치구 중 두 번째로 높은 집값 상승률을 기록했다.\n"
     ]
    }
   ],
   "source": [
    "from gensim.summarization.summarizer import summarize\n",
    "\n",
    "print(summarize(text, word_count= 10))\n",
    "print(summarize(news))\n"
   ]
  },
  {
   "cell_type": "code",
   "execution_count": 319,
   "metadata": {
    "slideshow": {
     "slide_type": "subslide"
    }
   },
   "outputs": [
    {
     "name": "stdout",
     "output_type": "stream",
     "text": [
      "{'gtx': 0.060900821397220598,\n",
      " '가격은': 0.10682736863216327,\n",
      " '가까이': 0.012612679361388959,\n",
      " '가팔라지고': 0.012612679361388985,\n",
      " '강남구': 0.10974710471582214,\n",
      " '강남권': 0.094562854243724001,\n",
      " '강남에선': 0.10239122551018501,\n",
      " '강화까지': 0.099746921218232226,\n",
      " '개통과': 0.10471147263163276,\n",
      " '거래됐다': 0.065975130591174963,\n",
      " '거래였던': 0.094562854243723946,\n",
      " '거세지고': 0.072611379950255336,\n",
      " '것으로': 0.14087489215637441,\n",
      " '것이란': 0.13846580283066123,\n",
      " '곳곳에선': 0.063099573376405732,\n",
      " '광역급행철도': 0.10627341279675866,\n",
      " '급매들이': 0.059733598198018462,\n",
      " '기대감이': 0.11144001934323768,\n",
      " '기록했다': 0.14766876335634405,\n",
      " '기름만': 0.094562854243724154,\n",
      " '나타나고': 0.094562854243723807,\n",
      " '나타났다': 0.094116098517776525,\n",
      " '내리막세였던': 0.012612679361388946,\n",
      " '녹번동': 0.12315057789627284,\n",
      " '누적으로': 0.056094768888735207,\n",
      " '니즈가': 0.012612679361388967,\n",
      " '다주택자들이': 0.058938558420831302,\n",
      " '도곡동': 0.10383359751921335,\n",
      " '돌아섰던': 0.09456285424372389,\n",
      " '따르면': 0.094562854243723918,\n",
      " '때문이다': 0.096849563143584158,\n",
      " '똘똘한': 0.059860924542120317,\n",
      " '뚜렷해질': 0.06597513059117506,\n",
      " '마이너스': 0.094562854243723959,\n",
      " '마지막': 0.094562854243723987,\n",
      " '만원보다': 0.012612679361388969,\n",
      " '만원에': 0.09456285424372414,\n",
      " '매각하는': 0.12315057789627257,\n",
      " '매매가격이': 0.055781550159640161,\n",
      " '매매는': 0.055781550159640182,\n",
      " '맹주였던': 0.13846580283066129,\n",
      " '박원순': 0.12315057789627298,\n",
      " '반등세로': 0.11651432853719267,\n",
      " '반등했다': 0.094562854243724126,\n",
      " '번째로': 0.01261267936138896,\n",
      " '보유세': 0.14126712732497596,\n",
      " '부담을': 0.094562854243723973,\n",
      " '부동산': 0.072611379950255267,\n",
      " '부동산시장은': 0.094562854243723946,\n",
      " '부동산은': 0.1384658028306614,\n",
      " '부동산을': 0.065975130591174908,\n",
      " '부동산팀장은': 0.10904013148751261,\n",
      " '부산도': 0.072611379950255253,\n",
      " '북한산푸르지오': 0.065975130591175074,\n",
      " '비강남권': 0.1165143285371925,\n",
      " '비판이': 0.13846580283066146,\n",
      " '빠져들고': 0.01261267936138896,\n",
      " '상승률을': 0.055270306673555529,\n",
      " '상승세가': 0.09456285424372389,\n",
      " '상승하며': 0.01261267936138896,\n",
      " '상승했다': 0.15052282072945219,\n",
      " '서울시장이': 0.065975130591175088,\n",
      " '셋째주': 0.012612679361388967,\n",
      " '셋째주까지': 0.012612679361388945,\n",
      " '소유하고': 0.072611379950255336,\n",
      " '소화되며': 0.060167263538338303,\n",
      " '수개월': 0.094562854243724057,\n",
      " '수도권': 0.11144001934323768,\n",
      " '시너지를': 0.060900821397219959,\n",
      " '시작한': 0.1231505778962729,\n",
      " '신고가': 0.01261267936138899,\n",
      " '아파트': 0.19925139357041841,\n",
      " '아파트가': 0.094562854243723835,\n",
      " '안명숙': 0.099129327463109138,\n",
      " '약속한': 0.094562854243723973,\n",
      " '양극화에': 0.094562854243724154,\n",
      " '양도세': 0.094562854243723862,\n",
      " '여의도가': 0.09456285424372414,\n",
      " '영등포구도': 0.098752396200901787,\n",
      " '영등포구와': 0.09456285424372407,\n",
      " '예고되면서': 0.10691148262954417,\n",
      " '예상되기': 0.095273678374973692,\n",
      " '올랐다': 0.094562854243724223,\n",
      " '용산구가': 0.094562854243724029,\n",
      " '용산구는': 0.094562854243724195,\n",
      " '우리은행': 0.10281471324985274,\n",
      " '움직임이': 0.12315057789627279,\n",
      " '은평구': 0.12315057789627273,\n",
      " '은평구도': 0.059119444013521268,\n",
      " '이라고': 0.094562854243723807,\n",
      " '인상안': 0.1030474341600435,\n",
      " '임기를': 0.06597513059117506,\n",
      " '있다는': 0.072611379950255364,\n",
      " '자치구': 0.012612679361388972,\n",
      " '재개발': 0.10627341279675831,\n",
      " '재점화하고': 0.012612679361388998,\n",
      " '저렴한': 0.10874628604945315,\n",
      " '전망이': 0.072611379950255253,\n",
      " '전망했다': 0.094562854243723737,\n",
      " '전환하고': 0.11358646739142278,\n",
      " '정리에': 0.094562854243723918,\n",
      " '정부의': 0.012612679361388992,\n",
      " '조용했던': 0.10732893281707334,\n",
      " '종합부동산세': 0.057264225246553051,\n",
      " '주택부터': 0.094562854243723973,\n",
      " '줄이기': 0.094562854243723973,\n",
      " '중과와': 0.094562854243723918,\n",
      " '집값은': 0.063099573376405912,\n",
      " '집값이': 0.012612679361388983,\n",
      " '처음으로': 0.09456285424372407,\n",
      " '최고가보다': 0.01261267936138896,\n",
      " '커졌다': 0.012612679361388969,\n",
      " '팔렸다': 0.094562854243724126,\n",
      " '하락세가': 0.072611379950255323,\n",
      " '하락세로': 0.094562854243723973,\n",
      " '하락에': 0.012612679361388959,\n",
      " '하락한': 0.053307735720375629,\n",
      " '하락할': 0.072611379950255281,\n",
      " '하락했다': 0.058902110933863376,\n",
      " '한국감정원에': 0.094562854243723793,\n",
      " '한신mbc': 0.10077374896441711,\n",
      " '확산되면서': 0.094562854243724043}\n"
     ]
    }
   ],
   "source": [
    "from gensim.summarization.keywords import get_graph\n",
    "from gensim.summarization.pagerank_weighted import pagerank_weighted\n",
    "from gensim.summarization.pagerank_weighted import build_adjacency_matrix\n",
    "graph = get_graph(news)\n",
    "# result will looks like {'good': 0.70432858653171504, 'hell': 0.051128871128006126, ...}\n",
    "result = pagerank_weighted(graph)\n",
    "pprint.pprint(result)"
   ]
  },
  {
   "cell_type": "code",
   "execution_count": 323,
   "metadata": {
    "slideshow": {
     "slide_type": "subslide"
    }
   },
   "outputs": [
    {
     "name": "stdout",
     "output_type": "stream",
     "text": [
      "[[ 0.  0.  0. ...,  0.  0.  0.]\n",
      " [ 0.  0.  0. ...,  0.  0.  0.]\n",
      " [ 0.  0.  0. ...,  0.  0.  0.]\n",
      " ..., \n",
      " [ 0.  0.  0. ...,  0.  0.  0.]\n",
      " [ 0.  0.  0. ...,  0.  0.  0.]\n",
      " [ 0.  0.  0. ...,  0.  0.  0.]]\n"
     ]
    }
   ],
   "source": [
    "print(build_adjacency_matrix(graph).todense())"
   ]
  },
  {
   "cell_type": "markdown",
   "metadata": {
    "slideshow": {
     "slide_type": "slide"
    }
   },
   "source": [
    "### 참고문헌 \n",
    "\n",
    "1) 파이썬 일반\n",
    "- 점프 투 파이썬 (https://wikidocs.net/book/1)\n",
    "- Coding The Matrix: Linear Algebra Through Computer Science Application (http://codingthematrix.com/)\n",
    "- Computationa Physics (http://www-personal.umich.edu/~mejn/cp/)\n",
    "\n",
    "2) Graph 및 Network\n",
    "- Networks: An Introduction (http://www-personal.umich.edu/~mejn/networks-an-introduction/)\n",
    "\n",
    "3) Vector semantics\n",
    "- Introduction to Machine Learning with Python (https://github.com/amueller/introduction_to_ml_with_python) <br\\>\n",
    "(http://www.kyobobook.co.kr/product/detailViewKor.laf?ejkGb=KOR&mallGb=KOR&barcode=9788968483394&orderClick=LAG&Kc=)\n",
    "\n",
    "- Speech and Language Processing (3rd ed. draft) (https://web.stanford.edu/~jurafsky/slp3/)"
   ]
  },
  {
   "cell_type": "code",
   "execution_count": null,
   "metadata": {},
   "outputs": [],
   "source": []
  }
 ],
 "metadata": {
  "anaconda-cloud": {},
  "celltoolbar": "Slideshow",
  "kernelspec": {
   "display_name": "Python [default]",
   "language": "python",
   "name": "python3"
  },
  "language_info": {
   "codemirror_mode": {
    "name": "ipython",
    "version": 3
   },
   "file_extension": ".py",
   "mimetype": "text/x-python",
   "name": "python",
   "nbconvert_exporter": "python",
   "pygments_lexer": "ipython3",
   "version": "3.5.2"
  }
 },
 "nbformat": 4,
 "nbformat_minor": 1
}
